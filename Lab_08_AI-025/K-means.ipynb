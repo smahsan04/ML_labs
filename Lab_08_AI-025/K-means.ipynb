{
  "nbformat": 4,
  "nbformat_minor": 0,
  "metadata": {
    "colab": {
      "provenance": [],
      "authorship_tag": "ABX9TyPxwn3oDlugpycvlKyy9VOJ",
      "include_colab_link": true
    },
    "kernelspec": {
      "name": "python3",
      "display_name": "Python 3"
    },
    "language_info": {
      "name": "python"
    }
  },
  "cells": [
    {
      "cell_type": "markdown",
      "metadata": {
        "id": "view-in-github",
        "colab_type": "text"
      },
      "source": [
        "<a href=\"https://colab.research.google.com/github/smahsan04/ML-Labs/blob/main/Lab8_AI_025.ipynb\" target=\"_parent\"><img src=\"https://colab.research.google.com/assets/colab-badge.svg\" alt=\"Open In Colab\"/></a>"
      ]
    },
    {
      "cell_type": "code",
      "execution_count": null,
      "metadata": {
        "id": "1xpxpFgknW7E"
      },
      "outputs": [],
      "source": [
        "import pandas as pd\n",
        "import numpy as np\n",
        "import random"
      ]
    },
    {
      "cell_type": "code",
      "source": [
        "df = pd.read_csv('lab_vehicle.csv')\n",
        "data = df.to_numpy()"
      ],
      "metadata": {
        "id": "LG-C3qDTocgs"
      },
      "execution_count": null,
      "outputs": []
    },
    {
      "cell_type": "code",
      "source": [
        "print(df.head)"
      ],
      "metadata": {
        "colab": {
          "base_uri": "https://localhost:8080/"
        },
        "collapsed": true,
        "id": "2YCT3RoAor8j",
        "outputId": "d0f3f2a3-69f6-477d-fbb6-53379493c853"
      },
      "execution_count": null,
      "outputs": [
        {
          "output_type": "stream",
          "name": "stdout",
          "text": [
            "<bound method NDFrame.head of      COMPACTNESS  CIRCULARITY  'DISTANCE CIRCULARITY'  'RADIUS RATIO'  \\\n",
            "0             95           48                      83             178   \n",
            "1             91           41                      84             141   \n",
            "2            104           50                     106             209   \n",
            "3             93           41                      82             159   \n",
            "4             85           44                      70             205   \n",
            "..           ...          ...                     ...             ...   \n",
            "841           93           39                      87             183   \n",
            "842           89           46                      84             163   \n",
            "843          106           54                     101             222   \n",
            "844           86           36                      78             146   \n",
            "845           85           36                      66             123   \n",
            "\n",
            "     'PR.AXIS ASPECT RATIO'  'MAX.LENGTH ASPECT RATIO'  'SCATTER RATIO'  \\\n",
            "0                        72                         10              162   \n",
            "1                        57                          9              149   \n",
            "2                        66                         10              207   \n",
            "3                        63                          9              144   \n",
            "4                       103                         52              149   \n",
            "..                      ...                        ...              ...   \n",
            "841                      64                          8              169   \n",
            "842                      66                         11              159   \n",
            "843                      67                         12              222   \n",
            "844                      58                          7              135   \n",
            "845                      55                          5              120   \n",
            "\n",
            "     ELONGATEDNESS  'PR.AXIS RECTANGULARITY'  'MAX.LENGTH RECTANGULARITY'  \\\n",
            "0               42                        20                          159   \n",
            "1               45                        19                          143   \n",
            "2               32                        23                          158   \n",
            "3               46                        19                          143   \n",
            "4               45                        19                          144   \n",
            "..             ...                       ...                          ...   \n",
            "841             40                        20                          134   \n",
            "842             43                        20                          159   \n",
            "843             30                        25                          173   \n",
            "844             50                        18                          124   \n",
            "845             56                        17                          128   \n",
            "\n",
            "     'SCALED VARIANCE_MAJOR'  'SCALED VARIANCE_MINOR'  \\\n",
            "0                        176                      379   \n",
            "1                        170                      330   \n",
            "2                        223                      635   \n",
            "3                        160                      309   \n",
            "4                        241                      325   \n",
            "..                       ...                      ...   \n",
            "841                      200                      422   \n",
            "842                      173                      368   \n",
            "843                      228                      721   \n",
            "844                      155                      270   \n",
            "845                      140                      212   \n",
            "\n",
            "     'SCALED RADIUS OF GYRATION'  'SKEWNESS ABOUT_MAJOR'  \\\n",
            "0                            184                      70   \n",
            "1                            158                      72   \n",
            "2                            220                      73   \n",
            "3                            127                      63   \n",
            "4                            188                     127   \n",
            "..                           ...                     ...   \n",
            "841                          149                      72   \n",
            "842                          176                      72   \n",
            "843                          200                      70   \n",
            "844                          148                      66   \n",
            "845                          131                      73   \n",
            "\n",
            "     'SKEWNESS ABOUT_MINOR'  'KURTOSIS ABOUT_MAJOR'  'KURTOSIS ABOUT_MINOR'  \\\n",
            "0                         6                      16                     187   \n",
            "1                         9                      14                     189   \n",
            "2                        14                       9                     188   \n",
            "3                         6                      10                     199   \n",
            "4                         9                      11                     180   \n",
            "..                      ...                     ...                     ...   \n",
            "841                       7                      25                     188   \n",
            "842                       1                      20                     186   \n",
            "843                       3                       4                     187   \n",
            "844                       0                      25                     190   \n",
            "845                       1                      18                     186   \n",
            "\n",
            "     'HOLLOWS RATIO'  \n",
            "0                197  \n",
            "1                199  \n",
            "2                196  \n",
            "3                207  \n",
            "4                183  \n",
            "..               ...  \n",
            "841              195  \n",
            "842              197  \n",
            "843              201  \n",
            "844              195  \n",
            "845              190  \n",
            "\n",
            "[846 rows x 18 columns]>\n"
          ]
        }
      ]
    },
    {
      "cell_type": "code",
      "source": [
        "def euclidean_distance(point1, point2):\n",
        "  return np.sqrt(np.sum((point1 - point2)**2))\n",
        "\n",
        "def kmeans(data, k, max_iterations=100):\n",
        "  # Initialize centroids randomly\n",
        "  centroids = data[np.random.choice(data.shape[0], k, replace=False)]\n",
        "\n",
        "  for _ in range(max_iterations):\n",
        "    # Assign each data point to the nearest centroid\n",
        "    labels = np.zeros(data.shape[0])\n",
        "    for i in range(data.shape[0]):\n",
        "      distances = [euclidean_distance(data[i], centroid) for centroid in centroids]\n",
        "      labels[i] = np.argmin(distances)\n",
        "\n",
        "    # Update centroids\n",
        "    new_centroids = np.zeros((k, data.shape[1]))\n",
        "    counts = np.zeros(k)\n",
        "    for i in range(data.shape[0]):\n",
        "      cluster = int(labels[i])\n",
        "      new_centroids[cluster] += data[i]\n",
        "      counts[cluster] += 1\n",
        "\n",
        "    for i in range(k):\n",
        "      if counts[i] > 0:\n",
        "        new_centroids[i] /= counts[i]\n",
        "\n",
        "    # Check for convergence\n",
        "    if np.array_equal(centroids, new_centroids):\n",
        "      break\n",
        "\n",
        "    centroids = new_centroids\n",
        "\n",
        "    sse = 0\n",
        "    for i in range(k):\n",
        "\n",
        "        cluster_points = data[labels == i]\n",
        "\n",
        "        cluster_distances = np.linalg.norm(cluster_points - centroids[i], axis=1) ** 2\n",
        "\n",
        "        sse += np.sum(cluster_distances)\n",
        "\n",
        "  return labels, centroids, sse\n"
      ],
      "metadata": {
        "id": "MUSM65dqrj0j"
      },
      "execution_count": null,
      "outputs": []
    },
    {
      "cell_type": "code",
      "source": [
        "print(\"Centroids shape:\", centroids.shape)"
      ],
      "metadata": {
        "colab": {
          "base_uri": "https://localhost:8080/"
        },
        "id": "vE3Z9Gky4emZ",
        "outputId": "fbdaa75a-bc19-46e4-c036-45733b25f964"
      },
      "execution_count": null,
      "outputs": [
        {
          "output_type": "stream",
          "name": "stdout",
          "text": [
            "Centroids shape: (3, 18)\n"
          ]
        }
      ]
    },
    {
      "cell_type": "code",
      "source": [
        "import matplotlib.pyplot as plt\n",
        "X=data\n",
        "inertias = []\n",
        "k_range = range(1, 11)\n",
        "\n",
        "for k in k_range:\n",
        "    _, _, inertia = kmeans(X, k)\n",
        "    inertias.append(inertia)\n",
        "\n",
        "# Plot the elbow graph\n",
        "plt.figure(figsize=(8, 5))\n",
        "plt.plot(k_range, inertias, marker='o')\n",
        "plt.title(\"Elbow Method using Custom K-Means\")\n",
        "plt.xlabel(\"Number of Clusters (k)\")\n",
        "plt.ylabel(\"Inertia (Within-cluster SSE)\")\n",
        "plt.grid(True)\n",
        "plt.xticks(k_range)\n",
        "plt.show()"
      ],
      "metadata": {
        "colab": {
          "base_uri": "https://localhost:8080/",
          "height": 487
        },
        "id": "UXRldYOcwF6C",
        "outputId": "22f28b5a-1e73-4eab-e343-df9a9afdde1d"
      },
      "execution_count": null,
      "outputs": [
        {
          "output_type": "display_data",
          "data": {
            "text/plain": [
              "<Figure size 800x500 with 1 Axes>"
            ],
            "image/png": "[encoded data removed]"
          },
          "metadata": {}
        }
      ]
    },
    {
      "cell_type": "code",
      "source": [
        "labels = kmeans(data, k=2)"
      ],
      "metadata": {
        "id": "eWGBjReQ44yy"
      },
      "execution_count": null,
      "outputs": []
    },
    {
      "cell_type": "code",
      "source": [
        "labels[0]"
      ],
      "metadata": {
        "colab": {
          "base_uri": "https://localhost:8080/"
        },
        "id": "44eLvS7F4_Xx",
        "outputId": "cc19894a-c140-4454-fd84-9b869a23ac6f"
      },
      "execution_count": null,
      "outputs": [
        {
          "output_type": "execute_result",
          "data": {
            "text/plain": [
              "array([0., 0., 1., 0., 0., 1., 0., 0., 0., 1., 0., 0., 0., 0., 0., 1., 0.,\n",
              "       0., 1., 1., 0., 0., 0., 0., 1., 0., 0., 1., 1., 0., 0., 0., 0., 1.,\n",
              "       0., 0., 0., 0., 1., 0., 1., 0., 0., 0., 1., 0., 0., 0., 0., 0., 0.,\n",
              "       0., 1., 0., 1., 0., 1., 0., 1., 0., 1., 0., 0., 0., 1., 0., 0., 1.,\n",
              "       0., 1., 1., 1., 0., 0., 0., 1., 0., 0., 1., 0., 0., 1., 0., 0., 0.,\n",
              "       1., 0., 0., 0., 0., 1., 0., 1., 0., 0., 1., 0., 0., 1., 0., 0., 0.,\n",
              "       0., 0., 1., 1., 1., 0., 0., 1., 0., 0., 0., 0., 0., 0., 1., 1., 0.,\n",
              "       0., 0., 0., 0., 0., 0., 0., 0., 0., 0., 1., 1., 0., 1., 0., 1., 0.,\n",
              "       0., 0., 0., 0., 0., 0., 1., 0., 0., 1., 0., 0., 0., 0., 1., 1., 0.,\n",
              "       1., 0., 1., 0., 0., 0., 0., 0., 1., 0., 0., 1., 1., 0., 1., 0., 0.,\n",
              "       1., 1., 0., 1., 0., 0., 0., 0., 0., 0., 1., 0., 0., 0., 1., 0., 0.,\n",
              "       0., 1., 0., 1., 0., 0., 1., 0., 0., 1., 0., 0., 0., 0., 0., 1., 1.,\n",
              "       0., 0., 0., 0., 0., 1., 0., 0., 0., 1., 0., 0., 0., 1., 0., 0., 1.,\n",
              "       0., 1., 0., 0., 0., 1., 0., 1., 0., 0., 0., 0., 1., 0., 0., 0., 0.,\n",
              "       1., 0., 0., 0., 0., 1., 0., 0., 0., 0., 1., 0., 0., 1., 0., 0., 0.,\n",
              "       1., 0., 0., 1., 1., 0., 0., 0., 0., 1., 0., 0., 0., 0., 0., 0., 0.,\n",
              "       0., 0., 1., 0., 0., 0., 1., 0., 1., 0., 0., 1., 0., 0., 0., 0., 1.,\n",
              "       0., 0., 0., 0., 0., 1., 0., 1., 0., 0., 0., 1., 0., 0., 0., 0., 0.,\n",
              "       1., 1., 1., 1., 1., 0., 0., 1., 0., 0., 0., 1., 0., 1., 1., 1., 0.,\n",
              "       1., 0., 0., 1., 0., 0., 0., 0., 1., 1., 0., 1., 1., 0., 1., 0., 0.,\n",
              "       0., 0., 0., 1., 1., 1., 1., 0., 0., 0., 1., 0., 0., 0., 0., 1., 0.,\n",
              "       1., 0., 1., 1., 1., 0., 0., 0., 1., 0., 0., 0., 0., 0., 0., 0., 0.,\n",
              "       0., 1., 1., 0., 0., 1., 0., 1., 0., 1., 0., 0., 1., 0., 0., 1., 0.,\n",
              "       0., 0., 0., 0., 0., 1., 0., 0., 0., 1., 0., 1., 0., 1., 0., 0., 0.,\n",
              "       0., 0., 0., 0., 0., 0., 0., 1., 0., 0., 0., 0., 0., 1., 0., 0., 1.,\n",
              "       0., 1., 0., 1., 0., 1., 1., 0., 0., 1., 0., 0., 0., 0., 1., 1., 0.,\n",
              "       0., 1., 1., 0., 1., 1., 1., 0., 0., 0., 0., 0., 1., 0., 0., 0., 1.,\n",
              "       0., 0., 1., 0., 0., 1., 0., 0., 1., 1., 0., 0., 1., 1., 1., 0., 1.,\n",
              "       1., 0., 1., 0., 1., 1., 0., 0., 0., 0., 1., 0., 0., 1., 1., 0., 0.,\n",
              "       1., 1., 0., 1., 0., 0., 1., 1., 1., 0., 0., 1., 1., 1., 0., 0., 1.,\n",
              "       0., 0., 1., 0., 0., 0., 0., 1., 0., 0., 0., 0., 0., 0., 1., 0., 1.,\n",
              "       1., 0., 0., 0., 1., 1., 0., 0., 0., 1., 0., 1., 1., 0., 0., 0., 0.,\n",
              "       0., 0., 0., 0., 0., 1., 0., 0., 0., 0., 1., 0., 1., 0., 0., 1., 1.,\n",
              "       0., 1., 0., 0., 0., 1., 0., 0., 0., 1., 0., 0., 0., 1., 1., 1., 1.,\n",
              "       0., 0., 0., 0., 1., 1., 1., 0., 1., 0., 0., 1., 0., 0., 0., 0., 0.,\n",
              "       0., 0., 0., 1., 0., 0., 0., 1., 0., 0., 1., 0., 0., 0., 0., 1., 0.,\n",
              "       0., 0., 0., 0., 0., 0., 0., 1., 1., 0., 0., 1., 0., 1., 0., 0., 1.,\n",
              "       0., 0., 1., 0., 1., 0., 0., 0., 0., 0., 1., 1., 0., 1., 0., 0., 0.,\n",
              "       0., 0., 1., 0., 1., 0., 0., 0., 0., 0., 0., 0., 0., 1., 0., 1., 0.,\n",
              "       0., 0., 0., 1., 1., 0., 0., 1., 0., 1., 0., 0., 1., 0., 1., 0., 0.,\n",
              "       0., 0., 0., 1., 0., 0., 0., 1., 0., 1., 0., 0., 1., 0., 0., 0., 0.,\n",
              "       0., 0., 0., 1., 1., 0., 0., 1., 1., 0., 0., 0., 0., 1., 1., 1., 1.,\n",
              "       0., 1., 0., 0., 1., 1., 0., 1., 0., 1., 0., 0., 1., 0., 0., 1., 1.,\n",
              "       1., 0., 1., 0., 0., 1., 1., 1., 0., 1., 0., 0., 1., 0., 0., 0., 0.,\n",
              "       0., 1., 0., 0., 0., 0., 0., 0., 1., 0., 0., 0., 1., 1., 0., 1., 1.,\n",
              "       0., 0., 0., 1., 0., 0., 1., 1., 0., 0., 0., 1., 1., 1., 0., 1., 0.,\n",
              "       1., 1., 0., 0., 1., 0., 1., 0., 0., 0., 1., 1., 0., 0., 0., 1., 1.,\n",
              "       0., 0., 0., 0., 0., 1., 0., 0., 1., 0., 0., 1., 0., 0., 0., 0., 0.,\n",
              "       0., 1., 1., 1., 0., 1., 0., 1., 1., 0., 0., 1., 0., 0., 0., 0., 1.,\n",
              "       0., 0., 1., 0., 0., 0., 0., 0., 0., 0., 1., 0., 0.])"
            ]
          },
          "metadata": {},
          "execution_count": 67
        }
      ]
    },
    {
      "cell_type": "code",
      "source": [
        "from sklearn.metrics import silhouette_score\n",
        "\n",
        "# Assuming 'data' and 'labels' are already defined from your kmeans function\n",
        "score = silhouette_score(data, labels[0])\n",
        "print(\"Silhouette score:\", score)\n"
      ],
      "metadata": {
        "colab": {
          "base_uri": "https://localhost:8080/"
        },
        "id": "MCJucRfM0gup",
        "outputId": "fb8d9ab1-3dc4-4a56-8306-ad74bd8f18ed"
      },
      "execution_count": null,
      "outputs": [
        {
          "output_type": "stream",
          "name": "stdout",
          "text": [
            "Silhouette score: 0.6735098638013705\n"
          ]
        }
      ]
    }
  ]
}